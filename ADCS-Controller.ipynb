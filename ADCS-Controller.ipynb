{
 "cells": [
  {
   "cell_type": "code",
   "execution_count": 7,
   "metadata": {},
   "outputs": [
    {
     "name": "stdout",
     "output_type": "stream",
     "text": [
      "Requirement already satisfied: python-statemachine in c:\\users\\shivam vohra\\anaconda3\\lib\\site-packages (2.1.2)\n"
     ]
    }
   ],
   "source": [
    "!pip3 install python-statemachine\n",
    "%run helpers.ipynb\n",
    "%run math_utils.ipynb"
   ]
  },
  {
   "cell_type": "code",
   "execution_count": 10,
   "metadata": {},
   "outputs": [],
   "source": [
    "from statemachine import StateMachine, State\n",
    "import numpy as np"
   ]
  },
  {
   "cell_type": "code",
   "execution_count": 13,
   "metadata": {},
   "outputs": [],
   "source": []
  },
  {
   "cell_type": "code",
   "execution_count": 6,
   "metadata": {},
   "outputs": [
    {
     "ename": "IndentationError",
     "evalue": "expected an indented block (<ipython-input-6-f99f49d5ef8b>, line 97)",
     "output_type": "error",
     "traceback": [
      "\u001b[1;36m  File \u001b[1;32m\"<ipython-input-6-f99f49d5ef8b>\"\u001b[1;36m, line \u001b[1;32m97\u001b[0m\n\u001b[1;33m    def after_pointing(self):\u001b[0m\n\u001b[1;37m    ^\u001b[0m\n\u001b[1;31mIndentationError\u001b[0m\u001b[1;31m:\u001b[0m expected an indented block\n"
     ]
    }
   ],
   "source": [
    "class ADCS(StateMachine):\n",
    "    \"\"\"\n",
    "    This class functions as the ADCS Controller.\n",
    "    \n",
    "    inputs = []\n",
    "    outputs = []\n",
    "    states = []\n",
    "    \n",
    "    transitions\n",
    "    -----------\n",
    "    \n",
    "    \"\"\"\n",
    "    \n",
    "    off = State(initial=True)\n",
    "    detumbling = State()\n",
    "    pointing = State()\n",
    "    error = State()\n",
    "    \n",
    "    on_initialization = off.to(detumbling)\n",
    "    to_pointing = detumbling.to(pointing)\n",
    "    continuous_pointing = pointing.to(pointing)\n",
    "    \n",
    "    def __init__(self):\n",
    "        self.moment = None\n",
    "        self.pointing_vec = [0, 0, 0]\n",
    "        super(ADCS, self).__init__()\n",
    "        \n",
    "    def b_dot(mag_field_vector, cang):\n",
    "        detb = np.sqrt(np.dot(mag_field_vector, mag_field_vector))\n",
    "        m = ((-1) / detb) * np.cross(mag_field_vector, cang)    \n",
    "        return m\n",
    "\n",
    "    def get_attitude_err(desired, estimated):\n",
    "\n",
    "        delta = np.matmul(estimated, np.transpose(desired))\n",
    "        attitude_err = -0.5 * np.array([\n",
    "            delta[2, 1] - delta[1, 2],\n",
    "            delta[0, 2] - delta[2, 0],\n",
    "            delta[1, 0] - delta[0, 1],\n",
    "        ])\n",
    "\n",
    "        return attitude_err\n",
    "\n",
    "    def get_pointing_torque(desired_pointing, actual_pointing):\n",
    "        \"\"\"Calculates the necessary control torques given input errors\n",
    "\n",
    "            Args:\n",
    "                attitude_err (numpy ndarray): the attitude error (3x1) of the\n",
    "                    spacecraft at a given time\n",
    "                attitude_rate_err (numpy ndarray): the attitude rate error (3x1) of\n",
    "                    the spacecraft at a given time\n",
    "                J (numpy ndarray): the spacecraft's inertia tensor (3x3) (kg * m^2)\n",
    "\n",
    "            Returns:\n",
    "                numpy ndarray: the control torque (3x1) produced by the PD\n",
    "                    controller (N * m)\n",
    "        \"\"\"\n",
    "        attitude_err = get_attitude_err(desired_pointing, actual_pointing)\n",
    "        u = -np.matmul(np.diag([.1, .1, .1]), attitude_err)\n",
    "        J = inertia(6, 0.34, 0.1, 0.1)\n",
    "        return np.matmul(J, u)\n",
    "\n",
    "\n",
    "    def get_pointing_moment(magnetic_field, desired, actual):\n",
    "        moment = 1/(np.dot(magnetic_field)) * np.matmul(skew(magnetic_field), get_pointing_torque(desired, actual))\n",
    "        return moment\n",
    "    \n",
    "    def before_pointing(self):\n",
    "        \n",
    "        # slow down rotation\n",
    "        self.moment = b_dot()\n",
    "        \n",
    "    def after_pointing(self):\n",
    "        \n",
    "        # update pointing vector\n",
    "        \n",
    "        self.moment = get_pointing_moment()\n",
    "        c1 = self.moment[0]\n",
    "        c2 = self.moment[1]\n",
    "        c3 = self.moment[2]\n",
    "        \n",
    "        # Check if greater\n",
    "        \n",
    "    \n",
    "    def get_moment(self):\n",
    "        return self.moment\n",
    "    \n",
    "\n",
    "class SafetyMonitor(StateMachine):\n",
    "    \n",
    "    safe = State(initial=True)\n",
    "    error = State()\n",
    "    \n",
    "    to_error = safe.to(error, cond=\"moment_error\")\n",
    "    \n",
    "    def moment_error(moment):\n",
    "        return moment > 0.12\n",
    "    \n",
    "    def get_state(self):\n",
    "        return self.current_state.id"
   ]
  }
 ],
 "metadata": {
  "kernelspec": {
   "display_name": "Python 3 (ipykernel)",
   "language": "python",
   "name": "python3"
  },
  "language_info": {
   "codemirror_mode": {
    "name": "ipython",
    "version": 3
   },
   "file_extension": ".py",
   "mimetype": "text/x-python",
   "name": "python",
   "nbconvert_exporter": "python",
   "pygments_lexer": "ipython3",
   "version": "3.11.0"
  }
 },
 "nbformat": 4,
 "nbformat_minor": 4
}
