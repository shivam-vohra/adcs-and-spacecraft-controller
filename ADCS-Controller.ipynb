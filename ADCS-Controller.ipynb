{
 "cells": [
  {
   "cell_type": "code",
   "execution_count": 7,
   "metadata": {},
   "outputs": [
    {
     "name": "stdout",
     "output_type": "stream",
     "text": [
      "Requirement already satisfied: python-statemachine in c:\\users\\shivam vohra\\anaconda3\\lib\\site-packages (2.1.2)\n"
     ]
    }
   ],
   "source": [
    "!pip3 install python-statemachine\n",
    "%run helpers.ipynb"
   ]
  },
  {
   "cell_type": "code",
   "execution_count": 10,
   "metadata": {},
   "outputs": [],
   "source": [
    "from statemachine import StateMachine, State\n",
    "import numpy as np"
   ]
  },
  {
   "cell_type": "code",
   "execution_count": 12,
   "metadata": {},
   "outputs": [
    {
     "ename": "NameError",
     "evalue": "name 'igrfmagm' is not defined",
     "output_type": "error",
     "traceback": [
      "\u001b[1;31m---------------------------------------------------------------------------\u001b[0m",
      "\u001b[1;31mNameError\u001b[0m                                 Traceback (most recent call last)",
      "\u001b[1;32m<ipython-input-12-a996e360bbc4>\u001b[0m in \u001b[0;36m<module>\u001b[1;34m\u001b[0m\n\u001b[0;32m     62\u001b[0m         \u001b[0mang_vel\u001b[0m\u001b[1;33m[\u001b[0m\u001b[0mi\u001b[0m\u001b[1;33m,\u001b[0m \u001b[1;33m:\u001b[0m\u001b[1;33m]\u001b[0m \u001b[1;33m=\u001b[0m \u001b[0mcang\u001b[0m\u001b[1;33m\u001b[0m\u001b[1;33m\u001b[0m\u001b[0m\n\u001b[0;32m     63\u001b[0m \u001b[1;33m\u001b[0m\u001b[0m\n\u001b[1;32m---> 64\u001b[1;33m \u001b[0mb_dot\u001b[0m\u001b[1;33m(\u001b[0m\u001b[1;33m)\u001b[0m\u001b[1;33m\u001b[0m\u001b[1;33m\u001b[0m\u001b[0m\n\u001b[0m",
      "\u001b[1;32m<ipython-input-12-a996e360bbc4>\u001b[0m in \u001b[0;36mb_dot\u001b[1;34m()\u001b[0m\n\u001b[0;32m     46\u001b[0m             \u001b[0mlat\u001b[0m \u001b[1;33m=\u001b[0m \u001b[1;33m-\u001b[0m\u001b[1;36m89.97\u001b[0m\u001b[1;33m\u001b[0m\u001b[1;33m\u001b[0m\u001b[0m\n\u001b[0;32m     47\u001b[0m \u001b[1;33m\u001b[0m\u001b[0m\n\u001b[1;32m---> 48\u001b[1;33m         mag_field_vector1, hor_intensity, declination, inclination, total_intensity = igrfmagm(\n\u001b[0m\u001b[0;32m     49\u001b[0m             alti, lat, long, decyear(2015, 7, 4), 12)\n\u001b[0;32m     50\u001b[0m         \u001b[0mmag_field_vector\u001b[0m \u001b[1;33m=\u001b[0m \u001b[0mmag_field_vector1\u001b[0m \u001b[1;33m*\u001b[0m \u001b[1;36m1e-9\u001b[0m\u001b[1;33m\u001b[0m\u001b[1;33m\u001b[0m\u001b[0m\n",
      "\u001b[1;31mNameError\u001b[0m: name 'igrfmagm' is not defined"
     ]
    }
   ],
   "source": [
    "def b_dot(mag_field_vector, m, h, w, d):\n",
    "    dt = 0.32\n",
    "    T = 90 * 60 * 3\n",
    "    t = np.arange(0, T + dt, dt)\n",
    "\n",
    "    # Initializations\n",
    "    inertia = inertia(m, h, w, d)\n",
    "\n",
    "    alti = 600000  # in meters\n",
    "    ang_vel = np.zeros((len(t), 3))\n",
    "    cang = np.array([0.1, -1.5, 0.3])\n",
    "    Re = 6371.2e3\n",
    "    Rc = Re + alti\n",
    "    p = ((111e3 * Rc) / Re)\n",
    "    G = 6.67428e-11\n",
    "    M = 5.972e24\n",
    "    linvel = np.sqrt(G * M / Rc)\n",
    "    angacc = np.array([0, 0, 0])\n",
    "\n",
    "    # Main loop\n",
    "    for i in range(len(t)):\n",
    "        cangi = cang\n",
    "        lati = (linvel * i * dt) / p\n",
    "        lat = 25 + lati\n",
    "        long = 60 + ((7.29e-5 * i * dt) * 180 / np.pi)\n",
    "\n",
    "        if lat > 90:\n",
    "            b = lat % 90\n",
    "            lat = 90 - b\n",
    "        if lat < -90:\n",
    "            c = lat % -90\n",
    "            lat = -90 - c\n",
    "        if long > 180:\n",
    "            d = long % 180\n",
    "            long = d - 180\n",
    "        if long < -180:\n",
    "            l = long % -180\n",
    "            long = 180 + l\n",
    "        if lat == 90:\n",
    "            lat = 89.97\n",
    "        if lat == -90:\n",
    "            lat = -89.97\n",
    "\n",
    "        mag_field_vector1 = mag_field_vector\n",
    "        mag_field_vector = mag_field_vector1 * 1e-9\n",
    "\n",
    "        # B-dot\n",
    "        detb = np.sqrt(np.dot(mag_field_vector, mag_field_vector))\n",
    "        m = ((-1) / detb) * np.cross(mag_field_vector, cang)\n",
    "        vtorque = np.cross(m, mag_field_vector)\n",
    "        inertiain = np.linalg.inv(inertia)\n",
    "        angacc = np.dot(vtorque, inertiain)\n",
    "        cang = cangi + (angacc * dt)\n",
    "\n",
    "        print('new angular velocity:')\n",
    "        print(cang)\n",
    "        ang_vel[i, :] = cang"
   ]
  },
  {
   "cell_type": "code",
   "execution_count": 6,
   "metadata": {},
   "outputs": [
    {
     "ename": "IndentationError",
     "evalue": "expected an indented block (<ipython-input-6-f99f49d5ef8b>, line 97)",
     "output_type": "error",
     "traceback": [
      "\u001b[1;36m  File \u001b[1;32m\"<ipython-input-6-f99f49d5ef8b>\"\u001b[1;36m, line \u001b[1;32m97\u001b[0m\n\u001b[1;33m    def after_pointing(self):\u001b[0m\n\u001b[1;37m    ^\u001b[0m\n\u001b[1;31mIndentationError\u001b[0m\u001b[1;31m:\u001b[0m expected an indented block\n"
     ]
    }
   ],
   "source": [
    "class ADCS(StateMachine):\n",
    "    \"\"\"\n",
    "    This class functions as the ADCS Controller.\n",
    "    \n",
    "    inputs = []\n",
    "    outputs = []\n",
    "    states = []\n",
    "    \n",
    "    transitions\n",
    "    -----------\n",
    "    \n",
    "    \"\"\"\n",
    "    \n",
    "    off = State(initial=True)\n",
    "    detumbling = State()\n",
    "    pointing = State()\n",
    "    error = State()\n",
    "    \n",
    "    on_initialization = off.to(detumbling)\n",
    "    to_pointing = detumbling.to(pointing)\n",
    "    continuous_pointing = pointing.to(pointing)\n",
    "    \n",
    "    def __init__(self):\n",
    "        self.moment = None\n",
    "        self.pointing_vec = [0, 0, 0]\n",
    "        super(ADCS, self).__init__()\n",
    "        \n",
    "    def before_pointing(self):\n",
    "        \n",
    "        # slow down rotation\n",
    "        \n",
    "    def after_pointing(self):\n",
    "        \n",
    "        # update pointing vector\n",
    "    \n",
    "    def get_moment(self):\n",
    "        return self.moment\n",
    "    \n",
    "\n",
    "class SafetyMonitor(StateMachine):\n",
    "    \n",
    "    safe = State(initial=True)\n",
    "    error = State()\n",
    "    \n",
    "    to_error = safe.to(error, cond=\"moment_error\")\n",
    "    \n",
    "    def moment_error(moment):\n",
    "        return moment > 0.12\n",
    "    \n",
    "    def get_state(self):\n",
    "        return self.current_state.id"
   ]
  }
 ],
 "metadata": {
  "kernelspec": {
   "display_name": "Python 3",
   "language": "python",
   "name": "python3"
  },
  "language_info": {
   "codemirror_mode": {
    "name": "ipython",
    "version": 3
   },
   "file_extension": ".py",
   "mimetype": "text/x-python",
   "name": "python",
   "nbconvert_exporter": "python",
   "pygments_lexer": "ipython3",
   "version": "3.8.3"
  }
 },
 "nbformat": 4,
 "nbformat_minor": 4
}
