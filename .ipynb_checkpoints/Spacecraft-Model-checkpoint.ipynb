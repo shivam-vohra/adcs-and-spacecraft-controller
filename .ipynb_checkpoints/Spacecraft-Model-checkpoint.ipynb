{
 "cells": [
  {
   "cell_type": "code",
   "execution_count": 26,
   "id": "91a9e7b8-c361-4813-ae89-4ce519bdf24f",
   "metadata": {},
   "outputs": [
    {
     "name": "stdout",
     "output_type": "stream",
     "text": [
      "Requirement already satisfied: sgp4 in c:\\python311\\lib\\site-packages (2.23)\n",
      "Requirement already satisfied: skyfield in c:\\python311\\lib\\site-packages (1.46)\n",
      "Requirement already satisfied: certifi>=2017.4.17 in c:\\users\\merij\\appdata\\roaming\\python\\python311\\site-packages (from skyfield) (2023.11.17)\n",
      "Requirement already satisfied: jplephem>=2.13 in c:\\python311\\lib\\site-packages (from skyfield) (2.20)\n",
      "Requirement already satisfied: numpy in c:\\python311\\lib\\site-packages (from skyfield) (1.24.2)\n",
      "Requirement already satisfied: sgp4>=2.2 in c:\\python311\\lib\\site-packages (from skyfield) (2.23)\n",
      "Requirement already satisfied: pyIGRF in c:\\python311\\lib\\site-packages (0.3.3)\n",
      "Requirement already satisfied: NumPy in c:\\python311\\lib\\site-packages (from pyIGRF) (1.24.2)\n"
     ]
    }
   ],
   "source": [
    "!pip3 install sgp4\n",
    "!pip3 install skyfield\n",
    "!pip3 install pyIGRF"
   ]
  },
  {
   "cell_type": "code",
   "execution_count": 69,
   "id": "0a8d7433-b413-40dc-ace0-329d6448eb22",
   "metadata": {},
   "outputs": [
    {
     "name": "stdout",
     "output_type": "stream",
     "text": [
      "Requirement already satisfied: scipy in c:\\python311\\lib\\site-packages (1.11.4)\n",
      "Requirement already satisfied: numpy<1.28.0,>=1.21.6 in c:\\python311\\lib\\site-packages (from scipy) (1.24.2)\n"
     ]
    }
   ],
   "source": [
    "%run math_utils.ipynb"
   ]
  },
  {
   "cell_type": "code",
   "execution_count": 70,
   "id": "e7e665eb-66e2-4544-81f2-851cd71293e8",
   "metadata": {},
   "outputs": [],
   "source": [
    "from sgp4.api import Satrec, WGS72\n",
    "from skyfield.api import EarthSatellite, Time, load, wgs84\n",
    "import pyIGRF\n",
    "import matplotlib.pyplot as plt\n",
    "import numpy as np"
   ]
  },
  {
   "cell_type": "code",
   "execution_count": 99,
   "id": "b7c5dfae-a530-4b5a-88aa-fcb561c29ff0",
   "metadata": {},
   "outputs": [],
   "source": [
    "class Spacecraft_Model():\n",
    "\n",
    "    # Spacecraft general parameters\n",
    "    m = 6      # [kg] weight\n",
    "    h = 0.34   # [m] hieght of chassis\n",
    "    w = 0.1    # [m] width of chassis\n",
    "    d = 0.1    # [m] depth of chassis\n",
    "    J = [[(1/12)*m*(h**2 + d**2), 0, 0], \n",
    "         [0, (1/12)*m*(w**2 + d**2), 0], \n",
    "         [0, 0, (1/12)*m*(h**2 + w**2)]]\n",
    "\n",
    "    # Generate a satellite orbit using orbital elements\n",
    "    # This orbit is for the ISS\n",
    "    # TODO: change to a more realistic orbit for this CubeSat\n",
    "    satrec = Satrec()\n",
    "    satrec.sgp4init(\n",
    "        WGS72,           # gravity model\n",
    "        'i',             # 'a' = old AFSPC mode, 'i' = improved mode\n",
    "        5,               # satnum: Satellite number\n",
    "        18441.785,       # epoch: days since 1949 December 31 00:00 UT\n",
    "        2.8098e-05,      # bstar: drag coefficient (/earth radii)\n",
    "        6.969196665e-13, # ndot: ballistic coefficient (revs/day)\n",
    "        0.0,             # nddot: second derivative of mean motion (revs/day^3)\n",
    "        0.1859667,       # ecco: eccentricity\n",
    "        5.7904160274885, # argpo: argument of perigee (radians)\n",
    "        0.5980929187319, # inclo: inclination (radians)\n",
    "        0.3373093125574, # mo: mean anomaly (radians)\n",
    "        0.0472294454407, # no_kozai: mean motion (radians/minute)\n",
    "        6.0863854713832, # nodeo: right ascension of ascending node (radians)\n",
    "    )\n",
    "\n",
    "    # Create a EarthSatellite object using the generated satellite orbit\n",
    "    ts = load.timescale()\n",
    "    sat = EarthSatellite.from_satrec(satrec,ts)\n",
    "    t0 = Time(ts, sat.model.jdsatepoch)\n",
    "\n",
    "    r0 = sat.at(t0).position.km\n",
    "    v0 = sat.at(t0).velocity.km_per_s\n",
    "    \n",
    "    # Find the ideal orientation of the spacecraft in the ICRF\n",
    "    b_x = -normalize(r0)\n",
    "    b_y = normalize(v0)\n",
    "    b_z = cross(b_x, b_y)\n",
    "\n",
    "    # Construct the nominal DCM from inertial to body from the body axes\n",
    "    # Compute the equilvalent quaternion\n",
    "    dcm_0_nominal = np.stack([b_x, b_y, b_z])\n",
    "    q_0_nominal = dcm_to_quaternion(dcm_0_nominal)\n",
    "\n",
    "    # Compute the nominal angular velocity required to maintain the reference attitude\n",
    "    w_nominal_i = (sat.model.no_kozai / 60) * normalize(cross(r0, v0))\n",
    "    w_nominal_b = np.matmul(dcm_0_nominal, w_nominal_i)\n",
    "    \n",
    "    def __init__(self, dt):\n",
    "        self.dt = dt\n",
    "\n",
    "        # Provide some initial offset in both the attitude and angular velocity\n",
    "        # q_offset = [0, np.sin(2*np.pi / 180 / 2), 0, np.cos(2*np.pi / 180 / 2)]\n",
    "        # q_0 = quaternion_multiply(q_offset, q_0_nominal)\n",
    "        q_0 = self.q_0_nominal\n",
    "        # w_offset = np.array([0.005, 0 ,0])\n",
    "        # w_0 = w_nominal_b + w_offset\n",
    "        w_0 = np.array([0, 0, 0])\n",
    "\n",
    "        self.q_t = q_0\n",
    "        self.w_t = w_0\n",
    "    \n",
    "    def get_position(t):\n",
    "        return self.sat.at(t).position.km\n",
    "\n",
    "    def get_velocity(self, t):\n",
    "        return self.sat.at(t).velocity.km_per_s\n",
    "\n",
    "    # Get the value of the Earth's magnetic field\n",
    "    def get_magnetic_field(self, t):\n",
    "        sat = self.sat\n",
    "\n",
    "        pos = sat.at(t)\n",
    "        lat, lon = wgs84.latlon_of(pos)\n",
    "        alt = wgs84.height_of(pos)\n",
    "        return pyIGRF.igrf_value(lat.degrees, lon.degrees, alt.km, date.J)\n",
    "\n",
    "    def tick(self):\n",
    "        return 0\n",
    "\n",
    "    def graph_orbit(self):\n",
    "        sat = self.sat\n",
    "        \n",
    "        hours = np.arange(0, sat.model.no_kozai * 60, self.dt)\n",
    "    \n",
    "        sat_pos = sat.at(Spacecraft_Model.t0).position.km\n",
    "        sat_posecl = sat.at(Spacecraft_Model.t0).ecliptic_position().km\n",
    "    \n",
    "        re = 6378.   # [km] radius of Earth\n",
    "        \n",
    "        theta = np.linspace(0, 2*np.pi, 201)\n",
    "        cth, sth, zth = (lambda theta=theta: [f(theta) for f in (np.cos, np.sin, np.zeros_like)])()\n",
    "        lon0 = re*np.vstack((cth, zth, sth))\n",
    "        lons = []\n",
    "        for phi in (np.pi/180)*np.arange(0,180,15):\n",
    "            cph, sph = (lambda phi=phi: [f(phi) for f in (np.cos, np.sin)])()\n",
    "            lon = np.vstack((lon0[0]*cph - lon0[1]*sph,\n",
    "                             lon0[1]*cph + lon0[0]*sph,\n",
    "                             lon0[2]))\n",
    "            lons.append(lon)\n",
    "    \n",
    "        lat0 = re*np.vstack((cth,sth,zth))\n",
    "        lats = []\n",
    "        for phi in (np.pi/180)*np.arange(-75, 90, 15):\n",
    "            cph, sph = (lambda phi=phi: [f(phi) for f in (np.cos, np.sin)])()\n",
    "            lat = re*np.vstack((cth*cph, sth*cph, zth+sph))\n",
    "            lats.append(lat)\n",
    "    \n",
    "        fig = plt.figure(figsize=[10, 8])\n",
    "        \n",
    "        ax  = fig.add_subplot(1, 1, 1, projection='3d')\n",
    "    \n",
    "        x, y, z = sat_pos\n",
    "        ax.plot(x, y, z)\n",
    "        for x, y, z in lons:\n",
    "            ax.plot(x, y, z, '-k')\n",
    "        for x, y, z in lats:\n",
    "            ax.plot(x, y, z, '-k')\n",
    "    \n",
    "        plt.show()\n",
    "        "
   ]
  },
  {
   "cell_type": "code",
   "execution_count": 100,
   "id": "045e7856-c17c-416d-a246-ca94a64ccc80",
   "metadata": {},
   "outputs": [
    {
     "ename": "NameError",
     "evalue": "name 'Satellite' is not defined",
     "output_type": "error",
     "traceback": [
      "\u001b[1;31m---------------------------------------------------------------------------\u001b[0m",
      "\u001b[1;31mNameError\u001b[0m                                 Traceback (most recent call last)",
      "Cell \u001b[1;32mIn[100], line 2\u001b[0m\n\u001b[0;32m      1\u001b[0m spacecraft \u001b[38;5;241m=\u001b[39m Spacecraft_Model(\u001b[38;5;241m0.01\u001b[39m)\n\u001b[1;32m----> 2\u001b[0m \u001b[43mspacecraft\u001b[49m\u001b[38;5;241;43m.\u001b[39;49m\u001b[43mgraph_orbit\u001b[49m\u001b[43m(\u001b[49m\u001b[43m)\u001b[49m\n",
      "Cell \u001b[1;32mIn[99], line 91\u001b[0m, in \u001b[0;36mSpacecraft_Model.graph_orbit\u001b[1;34m(self)\u001b[0m\n\u001b[0;32m     87\u001b[0m sat \u001b[38;5;241m=\u001b[39m \u001b[38;5;28mself\u001b[39m\u001b[38;5;241m.\u001b[39msat\n\u001b[0;32m     89\u001b[0m hours \u001b[38;5;241m=\u001b[39m np\u001b[38;5;241m.\u001b[39marange(\u001b[38;5;241m0\u001b[39m, sat\u001b[38;5;241m.\u001b[39mmodel\u001b[38;5;241m.\u001b[39mno_kozai \u001b[38;5;241m*\u001b[39m \u001b[38;5;241m60\u001b[39m, \u001b[38;5;28mself\u001b[39m\u001b[38;5;241m.\u001b[39mdt)\n\u001b[1;32m---> 91\u001b[0m sat_pos \u001b[38;5;241m=\u001b[39m sat\u001b[38;5;241m.\u001b[39mat(\u001b[43mSatellite\u001b[49m\u001b[38;5;241m.\u001b[39mt0)\u001b[38;5;241m.\u001b[39mposition\u001b[38;5;241m.\u001b[39mkm\n\u001b[0;32m     92\u001b[0m sat_posecl \u001b[38;5;241m=\u001b[39m sat\u001b[38;5;241m.\u001b[39mat(t0)\u001b[38;5;241m.\u001b[39mecliptic_position()\u001b[38;5;241m.\u001b[39mkm\n\u001b[0;32m     94\u001b[0m re \u001b[38;5;241m=\u001b[39m \u001b[38;5;241m6378.\u001b[39m   \u001b[38;5;66;03m# [km] radius of Earth\u001b[39;00m\n",
      "\u001b[1;31mNameError\u001b[0m: name 'Satellite' is not defined"
     ]
    }
   ],
   "source": [
    "spacecraft = Spacecraft_Model(0.01)\n",
    "spacecraft.graph_orbit()"
   ]
  },
  {
   "cell_type": "code",
   "execution_count": 88,
   "id": "5aa9851f-74ac-43db-bb44-80dd32dfeedc",
   "metadata": {},
   "outputs": [
    {
     "name": "stdout",
     "output_type": "stream",
     "text": [
      "<Time tt=2451723.5007428704>\n",
      "[-2.30057742 -4.18260775 -3.05893246]\n",
      "North component: 7281.43 nT\n",
      "East component: 1344.19 nT\n",
      "Vertical component: 7495.82 nT\n"
     ]
    }
   ],
   "source": [
    "date = spacecraft.ts.utc(2000, 6, 28, 0)\n",
    "print(date)\n",
    "pos = spacecraft.get_velocity(spacecraft.t0)\n",
    "print(pos)\n",
    "d, i, h, x, y, z, f = spacecraft.get_magnetic_field(date)\n",
    "print(\"North component: {:.2f} nT\".format(x))\n",
    "print(\"East component: {:.2f} nT\".format(y))\n",
    "print(\"Vertical component: {:.2f} nT\".format(z))"
   ]
  }
 ],
 "metadata": {
  "kernelspec": {
   "display_name": "Python 3 (ipykernel)",
   "language": "python",
   "name": "python3"
  },
  "language_info": {
   "codemirror_mode": {
    "name": "ipython",
    "version": 3
   },
   "file_extension": ".py",
   "mimetype": "text/x-python",
   "name": "python",
   "nbconvert_exporter": "python",
   "pygments_lexer": "ipython3",
   "version": "3.11.0"
  }
 },
 "nbformat": 4,
 "nbformat_minor": 5
}
