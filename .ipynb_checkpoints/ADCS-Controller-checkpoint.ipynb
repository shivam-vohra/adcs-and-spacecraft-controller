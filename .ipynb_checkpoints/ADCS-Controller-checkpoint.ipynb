{
 "cells": [
  {
   "cell_type": "code",
   "execution_count": 12,
   "metadata": {},
   "outputs": [
    {
     "name": "stdout",
     "output_type": "stream",
     "text": [
      "Requirement already satisfied: python-statemachine in c:\\python311\\lib\\site-packages (2.1.2)\n",
      "Requirement already satisfied: scipy in c:\\python311\\lib\\site-packages (1.11.4)\n",
      "Requirement already satisfied: numpy<1.28.0,>=1.21.6 in c:\\python311\\lib\\site-packages (from scipy) (1.24.2)\n"
     ]
    }
   ],
   "source": [
    "!pip3 install python-statemachine\n",
    "%run helpers.ipynb\n",
    "%run math_utils.ipynb"
   ]
  },
  {
   "cell_type": "code",
   "execution_count": 4,
   "metadata": {},
   "outputs": [],
   "source": [
    "from statemachine import StateMachine, State\n",
    "import numpy as np"
   ]
  },
  {
   "cell_type": "code",
   "execution_count": 2,
   "metadata": {},
   "outputs": [
    {
     "ename": "NameError",
     "evalue": "name 'StateMachine' is not defined",
     "output_type": "error",
     "traceback": [
      "\u001b[1;31m---------------------------------------------------------------------------\u001b[0m",
      "\u001b[1;31mNameError\u001b[0m                                 Traceback (most recent call last)",
      "Cell \u001b[1;32mIn[2], line 1\u001b[0m\n\u001b[1;32m----> 1\u001b[0m \u001b[38;5;28;01mclass\u001b[39;00m \u001b[38;5;21;01mADCS\u001b[39;00m(\u001b[43mStateMachine\u001b[49m):\n\u001b[0;32m      2\u001b[0m \u001b[38;5;250m    \u001b[39m\u001b[38;5;124;03m\"\"\"\u001b[39;00m\n\u001b[0;32m      3\u001b[0m \u001b[38;5;124;03m    This class functions as the ADCS Controller.\u001b[39;00m\n\u001b[0;32m      4\u001b[0m \u001b[38;5;124;03m    \u001b[39;00m\n\u001b[1;32m   (...)\u001b[0m\n\u001b[0;32m     11\u001b[0m \u001b[38;5;124;03m    \u001b[39;00m\n\u001b[0;32m     12\u001b[0m \u001b[38;5;124;03m    \"\"\"\u001b[39;00m\n\u001b[0;32m     14\u001b[0m     off \u001b[38;5;241m=\u001b[39m State(initial\u001b[38;5;241m=\u001b[39m\u001b[38;5;28;01mTrue\u001b[39;00m)\n",
      "\u001b[1;31mNameError\u001b[0m: name 'StateMachine' is not defined"
     ]
    }
   ],
   "source": [
    "class ADCS(StateMachine):\n",
    "    \"\"\"\n",
    "    This class functions as the ADCS Controller.\n",
    "    \n",
    "    inputs = []\n",
    "    outputs = []\n",
    "    states = []\n",
    "    \n",
    "    transitions\n",
    "    -----------\n",
    "    \n",
    "    \"\"\"\n",
    "    \n",
    "    off = State(initial=True)\n",
    "    detumbling = State()\n",
    "    pointing = State()\n",
    "    error = State()\n",
    "    \n",
    "    on_initialization = off.to(detumbling)\n",
    "    to_pointing = detumbling.to(pointing)\n",
    "    continuous_pointing = pointing.to(pointing)\n",
    "    \n",
    "    to_error = pointing.to(error)\n",
    "    \n",
    "    def __init__(self):\n",
    "        self.moment = None\n",
    "        self.pointing_vec = [0, 0, 0]\n",
    "        super(ADCS, self).__init__()\n",
    "        \n",
    "    def b_dot(self, mag_field_vector, cang):\n",
    "        detb = np.sqrt(np.dot(mag_field_vector, mag_field_vector))\n",
    "        m = ((-1) / detb) * np.cross(mag_field_vector, cang)    \n",
    "        return 2 * m\n",
    "\n",
    "    def get_attitude_err(self, q_target, q_curr):\n",
    "        q_err = quaternion_multiply(q_curr, quaternion_inverse(q_target))\n",
    "\n",
    "        pitch = np.arcsin(-2*(q_err[0]*q_err[2] - q_err[1]*q_err[3]))\n",
    "        roll = np.arctan(2*(q_err[1]*q_err[2] + q_err[0]*q_err[3]) / (q_err[3]**2 - q_err[0]**2 - q_err[1]**2 + q_err[2]**2))\n",
    "        yaw = np.arctan(2*(q_err[0]*q_err[1] + q_err[2]*q_err[3]) / (q_err[3]**2 + q_err[0]**2 - q_err[1]**2 - q_err[2]**2))\n",
    "\n",
    "        return np.array([roll, pitch, yaw])\n",
    "\n",
    "    def get_attitude_rate_err(self, w_desired, w_estimated, attitude_err):\n",
    "        delta_w = w_estimated - w_desired\n",
    "        attitude_rate_err = -cross(w_estimated, attitude_err) + delta_w\n",
    "\n",
    "        mag = np.linalg.norm(attitude_rate_err)\n",
    "        if mag < np.finfo(np.float64).eps:\n",
    "            return np.zeros(attitude_rate_err.shape)\n",
    "            \n",
    "        return attitude_rate_err\n",
    "\n",
    "    def get_pointing_torque(self, q_target, q_curr, w_desired, w_estimated):\n",
    "        attitude_err = self.get_attitude_err(q_target, q_curr)\n",
    "        attitude_rate_err = self.get_attitude_rate_err(w_desired, w_estimated, attitude_err)\n",
    "        # u = attitude_err * -0.4e-5 + attitude_rate_err * -5e-4\n",
    "        u = attitude_err * -0.4e-7 + attitude_rate_err * -1e-4\n",
    "        J = inertia(6, 0.34, 0.1, 0.1)\n",
    "        return np.matmul(J, u)\n",
    "\n",
    "    def get_pointing_moment(self, magnetic_field, q_target, q_curr, w_desired, w_estimated):\n",
    "        torque = self.get_pointing_torque(q_target, q_curr, w_desired, w_estimated)\n",
    "        torque_perp = torque - (np.dot(torque, magnetic_field)/np.dot(magnetic_field, magnetic_field)) * magnetic_field\n",
    "        moment = (1/np.dot(magnetic_field, magnetic_field)) * np.cross(magnetic_field, torque_perp)\n",
    "        return moment\n",
    "    \n",
    "    def detumble(self, mag_field, cang):\n",
    "        \n",
    "        # slow down rotation\n",
    "        self.moment = self.b_dot(mag_field, cang)\n",
    "        \n",
    "    def point(self, mag_field, q_target, q_curr, w_desired, w_estimated):\n",
    "        \n",
    "        # update pointing vector\n",
    "        \n",
    "        self.moment = self.get_pointing_moment(mag_field, q_target, q_curr, w_desired, w_estimated)\n",
    "    \n",
    "    def get_moment(self):\n",
    "        # Limit maximum moment\n",
    "        # m_max = 10\n",
    "        # m_mag = np.linalg.norm(self.moment)\n",
    "        # if m_mag > m_max:\n",
    "        #     self.moment = (m_max/m_mag) * self.moment\n",
    "        return self.moment\n",
    "\n",
    "class SafetyMonitor(StateMachine):\n",
    "    \n",
    "    safe = State(initial=True)\n",
    "    error = State()\n",
    "    \n",
    "    to_error = safe.to(error, cond=\"moment_error\")\n",
    "    \n",
    "    def moment_error(moment):\n",
    "        return moment > 0.12\n",
    "    \n",
    "    def get_state(self):\n",
    "        return self.current_state.id"
   ]
  },
  {
   "cell_type": "code",
   "execution_count": null,
   "metadata": {},
   "outputs": [],
   "source": []
  }
 ],
 "metadata": {
  "kernelspec": {
   "display_name": "Python 3 (ipykernel)",
   "language": "python",
   "name": "python3"
  },
  "language_info": {
   "codemirror_mode": {
    "name": "ipython",
    "version": 3
   },
   "file_extension": ".py",
   "mimetype": "text/x-python",
   "name": "python",
   "nbconvert_exporter": "python",
   "pygments_lexer": "ipython3",
   "version": "3.11.0"
  }
 },
 "nbformat": 4,
 "nbformat_minor": 4
}
